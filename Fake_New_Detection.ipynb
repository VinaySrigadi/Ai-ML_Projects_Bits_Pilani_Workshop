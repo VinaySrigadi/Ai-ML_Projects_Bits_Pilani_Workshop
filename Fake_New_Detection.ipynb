{
 "cells": [
  {
   "cell_type": "code",
   "execution_count": 1,
   "id": "996d4527-22f5-492d-826d-66e934533b74",
   "metadata": {},
   "outputs": [],
   "source": [
    "##Logistic Regression is a fundamental and widely used statical method for binary \n",
    "##classification tasks.Despite its name,it's used for classification rather than regression."
   ]
  },
  {
   "cell_type": "code",
   "execution_count": 2,
   "id": "d3670fe8-af5a-4a3d-b3d5-4a441d16e65f",
   "metadata": {},
   "outputs": [],
   "source": [
    "import numpy as np\n",
    "import pandas as pd\n",
    "import re\n",
    "from nltk.corpur import stopwords\n",
    "from nltk.stem.porter import PorterStemmer\n",
    "from sklearn.feature_extraction.text import TfigfVectorizer\n",
    "from sklearn.model_selection import train_test_split\n",
    "from sklearn.linear_model import LogisticRegression\n",
    "from sklearn.metrics import accuracy_score"
   ]
  },
  {
   "cell_type": "code",
   "execution_count": null,
   "id": "97cc24d3-2079-4224-92d2-e8541eb782ed",
   "metadata": {},
   "outputs": [],
   "source": []
  }
 ],
 "metadata": {
  "kernelspec": {
   "display_name": "Python 3 (ipykernel)",
   "language": "python",
   "name": "python3"
  },
  "language_info": {
   "codemirror_mode": {
    "name": "ipython",
    "version": 3
   },
   "file_extension": ".py",
   "mimetype": "text/x-python",
   "name": "python",
   "nbconvert_exporter": "python",
   "pygments_lexer": "ipython3",
   "version": "3.12.6"
  }
 },
 "nbformat": 4,
 "nbformat_minor": 5
}
